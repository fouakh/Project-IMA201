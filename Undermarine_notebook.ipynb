{
 "cells": [
  {
   "cell_type": "markdown",
   "id": "f24e4549",
   "metadata": {},
   "source": [
    "# Restauration d'images sous-marines\n",
    "\n",
    "## 1. Introduction\n",
    "\n",
    "## 2. Correction de la couleur\n",
    "\n",
    "### 2.1 Théorie du monde gris\n",
    "\n",
    "La correction des couleurs, en particulier la correction de la balance des blancs dans une image, consiste à estimer l'éclairage (illuminant) et à supprimer ses composantes chromatiques pour obtenir des couleurs réalistes. L'hypothèse du monde gris permet de calculer une approximation de l'illuminant en prenant la moyenne des valeurs des pixels dans chaque canal de couleur. L'idée est que si l'image n'est pas correctement balancée, alors la moyenne des valeurs R, G, B ne sera pas égale. En ajustant ces moyennes pour qu'elles soient égales, on corrige la balance des blancs.\n",
    "\n",
    "#### Formulation mathématique\n",
    "Le modèle de l'hypothèse du monde gris s'écrit comme :\n",
    "\n",
    "$$\n",
    "\\hat{f}_i(m, n) = \\frac{f_i(m, n)}{g_i(m, n)} \\approx \\frac{f_i(m, n)}{\\bar{f}_i(m, n)}\n",
    "$$\n",
    "où :\n",
    "- $\\hat{f}_i(m, n)$ est l'image corrigée après avoir compensé l'éclairage,\n",
    "- $f_i(m, n)$ est l'intensité du pixel à la position $(m, n)$ dans le canal $i$,\n",
    "- $g_i(m, n)$ est l'illuminant approximé (souvent pris comme la moyenne des valeurs de $f_i(m, n)$ dans toute l'image),\n",
    "- $\\bar{f}_i$ est la moyenne des intensités dans le canal $i$.\n",
    "\n",
    "#### Limite de la méthode\n",
    "L'un des principaux inconvénients de la méthode Gray-World est qu'elle suppose implicitement qu'il y a une répartition équilibrée des couleurs dans la scène. Si une couleur particulière (comme le bleu dans les scènes sous-marines) domine, l'hypothèse échoue, car la moyenne des valeurs de couleur ne sera pas proche du gris, et le résultat sera une correction de couleur incorrecte."
   ]
  },
  {
   "cell_type": "code",
   "execution_count": 1,
   "id": "fb2da66b",
   "metadata": {},
   "outputs": [],
   "source": [
    "from Undermarine_lib import *"
   ]
  },
  {
   "cell_type": "code",
   "execution_count": 2,
   "id": "316140e1",
   "metadata": {},
   "outputs": [],
   "source": [
    "im1 = skio.imread('Images/image001.jpg')\n",
    "viewimage_color(im1)\n",
    "im1_gw = gray_world_correction(im1)\n",
    "viewimage_color(im1_gw)"
   ]
  },
  {
   "cell_type": "code",
   "execution_count": 3,
   "id": "85a68da4",
   "metadata": {},
   "outputs": [],
   "source": [
    "im2 = skio.imread('Images/image002.jpg')\n",
    "viewimage_color(im2)\n",
    "im2_gw = gray_world_correction(im2)\n",
    "viewimage_color(im2_gw)"
   ]
  },
  {
   "cell_type": "code",
   "execution_count": 4,
   "id": "bcea770c",
   "metadata": {},
   "outputs": [],
   "source": [
    "im5 = skio.imread('Images/image005.png')\n",
    "viewimage_color(im5)\n",
    "im5_gw = gray_world_correction(im5)\n",
    "viewimage_color(im5_gw)"
   ]
  },
  {
   "cell_type": "code",
   "execution_count": 5,
   "id": "a6f05ac6",
   "metadata": {},
   "outputs": [],
   "source": [
    "im6 = skio.imread('Images/image006.png')\n",
    "viewimage_color(im6)\n",
    "im6_gw = gray_world_correction(im6)\n",
    "viewimage_color(im6_gw)"
   ]
  },
  {
   "cell_type": "code",
   "execution_count": 6,
   "id": "730ef8b7",
   "metadata": {},
   "outputs": [],
   "source": [
    "im7 = skio.imread('Images/image007.png')\n",
    "viewimage_color(im7)\n",
    "im7_gw = gray_world_correction(im7)\n",
    "viewimage_color(im7_gw)"
   ]
  }
 ],
 "metadata": {
  "kernelspec": {
   "display_name": "Python 3 (ipykernel)",
   "language": "python",
   "name": "python3"
  },
  "language_info": {
   "codemirror_mode": {
    "name": "ipython",
    "version": 3
   },
   "file_extension": ".py",
   "mimetype": "text/x-python",
   "name": "python",
   "nbconvert_exporter": "python",
   "pygments_lexer": "ipython3",
   "version": "3.9.6"
  }
 },
 "nbformat": 4,
 "nbformat_minor": 5
}
